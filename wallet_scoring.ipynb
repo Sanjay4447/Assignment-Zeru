{
 "cells": [
  {
   "cell_type": "code",
   "execution_count": 49,
   "id": "069d1395-538e-430e-a0e7-cdc22b45e065",
   "metadata": {},
   "outputs": [
    {
     "name": "stdout",
     "output_type": "stream",
     "text": [
      "Requirement already satisfied: scikit-learn in c:\\users\\sanja\\anaconda3\\lib\\site-packages (1.4.2)\n",
      "Requirement already satisfied: matplotlib in c:\\users\\sanja\\anaconda3\\lib\\site-packages (3.8.4)\n",
      "Requirement already satisfied: numpy>=1.19.5 in c:\\users\\sanja\\anaconda3\\lib\\site-packages (from scikit-learn) (1.26.0)\n",
      "Requirement already satisfied: scipy>=1.6.0 in c:\\users\\sanja\\anaconda3\\lib\\site-packages (from scikit-learn) (1.13.1)\n",
      "Requirement already satisfied: joblib>=1.2.0 in c:\\users\\sanja\\anaconda3\\lib\\site-packages (from scikit-learn) (1.4.2)\n",
      "Requirement already satisfied: threadpoolctl>=2.0.0 in c:\\users\\sanja\\anaconda3\\lib\\site-packages (from scikit-learn) (2.2.0)\n",
      "Requirement already satisfied: contourpy>=1.0.1 in c:\\users\\sanja\\anaconda3\\lib\\site-packages (from matplotlib) (1.2.0)\n",
      "Requirement already satisfied: cycler>=0.10 in c:\\users\\sanja\\anaconda3\\lib\\site-packages (from matplotlib) (0.11.0)\n",
      "Requirement already satisfied: fonttools>=4.22.0 in c:\\users\\sanja\\anaconda3\\lib\\site-packages (from matplotlib) (4.51.0)\n",
      "Requirement already satisfied: kiwisolver>=1.3.1 in c:\\users\\sanja\\anaconda3\\lib\\site-packages (from matplotlib) (1.4.4)\n",
      "Requirement already satisfied: packaging>=20.0 in c:\\users\\sanja\\anaconda3\\lib\\site-packages (from matplotlib) (23.2)\n",
      "Requirement already satisfied: pillow>=8 in c:\\users\\sanja\\anaconda3\\lib\\site-packages (from matplotlib) (10.3.0)\n",
      "Requirement already satisfied: pyparsing>=2.3.1 in c:\\users\\sanja\\anaconda3\\lib\\site-packages (from matplotlib) (3.0.9)\n",
      "Requirement already satisfied: python-dateutil>=2.7 in c:\\users\\sanja\\anaconda3\\lib\\site-packages (from matplotlib) (2.9.0.post0)\n",
      "Requirement already satisfied: six>=1.5 in c:\\users\\sanja\\anaconda3\\lib\\site-packages (from python-dateutil>=2.7->matplotlib) (1.16.0)\n"
     ]
    }
   ],
   "source": [
    "!pip install scikit-learn matplotlib"
   ]
  },
  {
   "cell_type": "code",
   "execution_count": 50,
   "id": "b0b14e8d-fbb2-4411-98ca-cb7ec6fb9275",
   "metadata": {},
   "outputs": [],
   "source": [
    "import json\n",
    "import matplotlib.pyplot as plt\n",
    "import pandas as pd\n",
    "from sklearn.tree import DecisionTreeRegressor\n",
    "from sklearn.model_selection import train_test_split\n",
    "from sklearn.metrics import mean_squared_error"
   ]
  },
  {
   "cell_type": "markdown",
   "id": "8eb4f658-22ff-4a1f-9ae3-4a11bbb7bad1",
   "metadata": {},
   "source": [
    "# Feature Extraction"
   ]
  },
  {
   "cell_type": "code",
   "execution_count": 51,
   "id": "aacd51b3-86db-4e71-a7de-d18f234ef55b",
   "metadata": {},
   "outputs": [
    {
     "data": {
      "text/html": [
       "<div>\n",
       "<style scoped>\n",
       "    .dataframe tbody tr th:only-of-type {\n",
       "        vertical-align: middle;\n",
       "    }\n",
       "\n",
       "    .dataframe tbody tr th {\n",
       "        vertical-align: top;\n",
       "    }\n",
       "\n",
       "    .dataframe thead th {\n",
       "        text-align: right;\n",
       "    }\n",
       "</style>\n",
       "<table border=\"1\" class=\"dataframe\">\n",
       "  <thead>\n",
       "    <tr style=\"text-align: right;\">\n",
       "      <th></th>\n",
       "      <th>wallet</th>\n",
       "      <th>deposit</th>\n",
       "      <th>borrow</th>\n",
       "      <th>repay</th>\n",
       "      <th>redeem</th>\n",
       "      <th>liquidation</th>\n",
       "      <th>total_txns</th>\n",
       "    </tr>\n",
       "  </thead>\n",
       "  <tbody>\n",
       "    <tr>\n",
       "      <th>0</th>\n",
       "      <td>0x00000000001accfa9cef68cf5371a23025b6d4b6</td>\n",
       "      <td>1</td>\n",
       "      <td>0</td>\n",
       "      <td>0</td>\n",
       "      <td>0</td>\n",
       "      <td>0</td>\n",
       "      <td>1</td>\n",
       "    </tr>\n",
       "    <tr>\n",
       "      <th>1</th>\n",
       "      <td>0x000000000051d07a4fb3bd10121a343d85818da6</td>\n",
       "      <td>1</td>\n",
       "      <td>0</td>\n",
       "      <td>0</td>\n",
       "      <td>0</td>\n",
       "      <td>0</td>\n",
       "      <td>1</td>\n",
       "    </tr>\n",
       "    <tr>\n",
       "      <th>2</th>\n",
       "      <td>0x000000000096026fb41fc39f9875d164bd82e2dc</td>\n",
       "      <td>2</td>\n",
       "      <td>0</td>\n",
       "      <td>0</td>\n",
       "      <td>0</td>\n",
       "      <td>0</td>\n",
       "      <td>2</td>\n",
       "    </tr>\n",
       "    <tr>\n",
       "      <th>3</th>\n",
       "      <td>0x0000000000e189dd664b9ab08a33c4839953852c</td>\n",
       "      <td>0</td>\n",
       "      <td>0</td>\n",
       "      <td>0</td>\n",
       "      <td>17</td>\n",
       "      <td>0</td>\n",
       "      <td>17</td>\n",
       "    </tr>\n",
       "    <tr>\n",
       "      <th>4</th>\n",
       "      <td>0x0000000002032370b971dabd36d72f3e5a7bf1ee</td>\n",
       "      <td>250</td>\n",
       "      <td>15</td>\n",
       "      <td>4</td>\n",
       "      <td>130</td>\n",
       "      <td>0</td>\n",
       "      <td>399</td>\n",
       "    </tr>\n",
       "  </tbody>\n",
       "</table>\n",
       "</div>"
      ],
      "text/plain": [
       "                                       wallet  deposit  borrow  repay  redeem  \\\n",
       "0  0x00000000001accfa9cef68cf5371a23025b6d4b6        1       0      0       0   \n",
       "1  0x000000000051d07a4fb3bd10121a343d85818da6        1       0      0       0   \n",
       "2  0x000000000096026fb41fc39f9875d164bd82e2dc        2       0      0       0   \n",
       "3  0x0000000000e189dd664b9ab08a33c4839953852c        0       0      0      17   \n",
       "4  0x0000000002032370b971dabd36d72f3e5a7bf1ee      250      15      4     130   \n",
       "\n",
       "   liquidation  total_txns  \n",
       "0            0           1  \n",
       "1            0           1  \n",
       "2            0           2  \n",
       "3            0          17  \n",
       "4            0         399  "
      ]
     },
     "execution_count": 51,
     "metadata": {},
     "output_type": "execute_result"
    }
   ],
   "source": [
    "with open(\"user-wallet-transactions (1).json\", \"r\") as f:\n",
    "    data = json.load(f)\n",
    "\n",
    "wallets = {}\n",
    "\n",
    "action_map = {\n",
    "    'deposit': 'deposit',\n",
    "    'borrow': 'borrow',\n",
    "    'repay': 'repay',\n",
    "    'redeemunderlying': 'redeem',\n",
    "    'liquidationcall': 'liquidation'\n",
    "}\n",
    "\n",
    "for txn in data:\n",
    "    user = txn.get('userWallet') or txn.get('actionData', {}).get('userId')\n",
    "    action = txn.get('action', '').lower()\n",
    "\n",
    "    if not user or not action:\n",
    "        continue\n",
    "\n",
    "    action_key = action_map.get(action)\n",
    "    if not action_key:\n",
    "        continue\n",
    "\n",
    "    if user not in wallets:\n",
    "        wallets[user] = {\n",
    "            'wallet': user,\n",
    "            'deposit': 0,\n",
    "            'borrow': 0,\n",
    "            'repay': 0,\n",
    "            'redeem': 0,\n",
    "            'liquidation': 0,\n",
    "            'total_txns': 0\n",
    "        }\n",
    "\n",
    "    wallets[user][action_key] += 1\n",
    "    wallets[user]['total_txns'] += 1\n",
    "\n",
    "df = pd.DataFrame(wallets.values())\n",
    "df.head()"
   ]
  },
  {
   "cell_type": "code",
   "execution_count": 52,
   "id": "402c5202-4095-4ce4-9360-0d2eb685f4ef",
   "metadata": {},
   "outputs": [],
   "source": [
    "df['simulated_score'] = (\n",
    "    df['deposit'] * 10 +\n",
    "    df['repay'] * 15 +\n",
    "    df['borrow'] * 5 +\n",
    "    df['redeem'] * 5 -\n",
    "    df['liquidation'] * 20 +\n",
    "    df['total_txns'] * 2\n",
    ").clip(0, 1000)"
   ]
  },
  {
   "cell_type": "markdown",
   "id": "80bc4ebc-db0c-49de-87b4-5defe1eefb63",
   "metadata": {},
   "source": [
    "# Training Model"
   ]
  },
  {
   "cell_type": "code",
   "execution_count": 53,
   "id": "ec4cef93-7ded-4dab-89b1-77c1e48da27c",
   "metadata": {},
   "outputs": [
    {
     "name": "stdout",
     "output_type": "stream",
     "text": [
      "MSE: 493.7590829064506\n"
     ]
    }
   ],
   "source": [
    "features = ['deposit', 'borrow', 'repay', 'redeem', 'liquidation', 'total_txns']\n",
    "X = df[features]\n",
    "y = df['simulated_score']\n",
    "\n",
    "X_train, X_test, y_train, y_test = train_test_split(X, y, test_size=0.2, random_state=42)\n",
    "\n",
    "model = DecisionTreeRegressor(max_depth=5)\n",
    "model.fit(X_train, y_train)\n",
    "\n",
    "y_pred = model.predict(X_test)\n",
    "print(\"MSE:\", mean_squared_error(y_test, y_pred))"
   ]
  },
  {
   "cell_type": "code",
   "execution_count": 54,
   "id": "ff61c7eb-2662-47a1-a2ec-be0875081659",
   "metadata": {},
   "outputs": [],
   "source": [
    "df['predicted_score'] = model.predict(X)\n",
    "df['predicted_score'] = df['predicted_score'].clip(0, 1000).round().astype(int)"
   ]
  },
  {
   "cell_type": "code",
   "execution_count": 55,
   "id": "a1903ee6-6c53-4538-8ae8-468404240980",
   "metadata": {},
   "outputs": [],
   "source": [
    "wallet_scores = dict(zip(df['wallet'], df['predicted_score']))\n",
    "\n",
    "with open(\"wallet_scores_ml.json\", \"w\") as f:\n",
    "    json.dump(wallet_scores, f, indent=2)"
   ]
  },
  {
   "cell_type": "markdown",
   "id": "b860ecdf-78ce-4610-af55-bec70f1f6db5",
   "metadata": {},
   "source": [
    "# PLOTTING"
   ]
  },
  {
   "cell_type": "code",
   "execution_count": 56,
   "id": "6d844e24-2c44-41dd-bc7f-52615cf963b7",
   "metadata": {},
   "outputs": [
    {
     "data": {
      "image/png": "[encoded data removed]",
      "text/plain": [
       "<Figure size 1000x600 with 1 Axes>"
      ]
     },
     "metadata": {},
     "output_type": "display_data"
    }
   ],
   "source": [
    "plt.figure(figsize=(10, 6))\n",
    "plt.hist(df['predicted_score'], bins=10, edgecolor='black')\n",
    "plt.title(\"ML-Based Wallet Score Distribution\")\n",
    "plt.xlabel(\"Score Range\")\n",
    "plt.ylabel(\"Wallet Count\")\n",
    "plt.grid(True)\n",
    "plt.tight_layout()\n",
    "plt.savefig(\"score_distribution_ml.png\")\n",
    "plt.show()"
   ]
  },
  {
   "cell_type": "code",
   "execution_count": null,
   "id": "a9609e1f-cf29-4b20-9dd9-b14fca605c3b",
   "metadata": {},
   "outputs": [],
   "source": []
  }
 ],
 "metadata": {
  "kernelspec": {
   "display_name": "Python 3 (ipykernel)",
   "language": "python",
   "name": "python3"
  },
  "language_info": {
   "codemirror_mode": {
    "name": "ipython",
    "version": 3
   },
   "file_extension": ".py",
   "mimetype": "text/x-python",
   "name": "python",
   "nbconvert_exporter": "python",
   "pygments_lexer": "ipython3",
   "version": "3.12.4"
  }
 },
 "nbformat": 4,
 "nbformat_minor": 5
}
